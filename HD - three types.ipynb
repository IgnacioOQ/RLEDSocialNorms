{
 "cells": [
  {
   "cell_type": "markdown",
   "metadata": {},
   "source": [
    "# Politeness as a Hawk-Dove Game\n",
    "## A Reinforcement Learning and Replicator Dynamics Approach\n",
    "\n",
    "Introduction"
   ]
  },
  {
   "cell_type": "markdown",
   "metadata": {},
   "source": [
    "# Setup\n",
    "\n",
    "Importing packages and setting up helpful functions"
   ]
  },
  {
   "cell_type": "code",
   "execution_count": 3,
   "metadata": {},
   "outputs": [],
   "source": [
    "# Importing the Relevant Packages\n",
    "\n",
    "# very handy numeric package. Mainly for arrays, but includes heaps of handy functions\n",
    "import numpy as np\n",
    "# standard graphics package\n",
    "import matplotlib.pyplot as plt\n",
    "# suppress scientific notation when printing np arrays. here for troubleshooting\n",
    "from collections import Counter\n",
    "np.set_printoptions(suppress=True)"
   ]
  },
  {
   "cell_type": "code",
   "execution_count": 4,
   "metadata": {},
   "outputs": [],
   "source": [
    "#I start by defining a few helper functions.\n",
    "\n",
    "#given a numpy array, return an array with all of the indexes = the max value\n",
    "def multi_argmax(n):\n",
    "    return np.where(n==np.max(n))[0]\n",
    "\n",
    "#this is equivalent to the form in the book, but I find it easier to understand\n",
    "def recalculate_mean(current_mean,reward,n):  \n",
    "    old_sum = current_mean * (n-1)\n",
    "    new_sum = old_sum + reward\n",
    "    return new_sum / n\n",
    "\n",
    "# This is the more general form used in the book\n",
    "def recalculate_mean_with_stepsize(current_mean,reward,alpha): \n",
    "    return current_mean + (alpha * (reward-current_mean))\n",
    "\n",
    "# Given a dictionary d of action-value pairs, it returns the indexes of the actions with the maximum value\n",
    "def dict_multi_argmax(d): # \n",
    "    i = list(d.items())  # List of the items in the dictionary, which is a list of pairs\n",
    "    k = [a for a,b in i] # Give me the first component of the pairs in i\n",
    "    v = [b for a,b in i] # Give me the second component of the pairs in i\n",
    "    a = multi_argmax(v) # Give me the indexes of the maximum values in v\n",
    "    return [k[x] for x in a] # return the actions in k corresponding to the indexes in a"
   ]
  },
  {
   "cell_type": "markdown",
   "metadata": {},
   "source": [
    "# Payoffs of the game at hand"
   ]
  },
  {
   "cell_type": "code",
   "execution_count": 5,
   "metadata": {},
   "outputs": [],
   "source": [
    "action_space=['hawk','dove']\n",
    "agree_payoff = 1\n",
    "disagree_dict = {'dove': {'dove':0,'hawk':-0.5},'hawk': {'dove': 0.5,'hawk':-2 }} #payoff matrix for disagreement "
   ]
  },
  {
   "cell_type": "markdown",
   "metadata": {},
   "source": [
    "# Parameters"
   ]
  },
  {
   "cell_type": "code",
   "execution_count": 41,
   "metadata": {},
   "outputs": [
    {
     "data": {
      "text/plain": [
       "numpy.int32"
      ]
     },
     "execution_count": 41,
     "metadata": {},
     "output_type": "execute_result"
    }
   ],
   "source": [
    "iterations = 2500  #iterations in simulation\n",
    "num_agents = 100   #agents in population \n",
    "epsilon = 0.1      # Exploratory parameter\n",
    "\n",
    "# Since we now have four types: left, center left, center right, rightñ proportion is an array\n",
    "proportion = np.array([0.2,0.3,0.3,0.2])\n",
    "# Now for the populations, in integer type\n",
    "pop = np.array(proportion*num_agents,dtype='int')"
   ]
  },
  {
   "cell_type": "code",
   "execution_count": 42,
   "metadata": {},
   "outputs": [],
   "source": [
    "#This is my general bandit, though note that I've built in some details \n",
    "#it is a smidge more complicated because I've written it so you can defer updates until after everyone has paired off\n",
    "\n",
    "class Epsilon_greedy_agent: \n",
    "        def __init__(self,belief):\n",
    "            self.epsilon = epsilon\n",
    "            self.estimated_values = {}\n",
    "            self.times_chosen = {}\n",
    "            self.update_queue = [] \n",
    "            self.belief = belief\n",
    "            for option in action_space:\n",
    "                self.estimated_values[option] = 0\n",
    "                self.times_chosen[option] = 0\n",
    "            \n",
    "        def choose_action(self):\n",
    "            if np.random.random() >= self.epsilon:  # Pic one of the max actions random\n",
    "                chosen_bandit = np.random.choice(dict_multi_argmax(self.estimated_values))\n",
    "            else:\n",
    "                chosen_bandit = np.random.choice(list(self.estimated_values.keys()))\n",
    "            self.last_chosen = chosen_bandit\n",
    "            return chosen_bandit\n",
    "    \n",
    "        def report_belief(self):\n",
    "            return self.belief\n",
    "        \n",
    "        # (Ignacio) I think the next two class properties can be spared with, if we assume that agents have no \"memory\"\n",
    "        # as explained immediately after\n",
    "        def add_to_update_queue(self,x):\n",
    "            self.update_queue.append(x)\n",
    "\n",
    "        def update_from_queue(self):\n",
    "            for chosen_bandit,reward in self.update_queue:\n",
    "                self.times_chosen[chosen_bandit] += 1 #update before recalc otherwise you get div by zero \n",
    "                self.estimated_values[chosen_bandit] = recalculate_mean_with_stepsize(  #note line split here, this is  long\n",
    "                self.estimated_values[chosen_bandit],reward,1/self.times_chosen[chosen_bandit]) #1/n stepsize\n",
    "            self.clear_update_queue()\n",
    "\n",
    "        def update_step(self, reward):\n",
    "            #update before recalc otherwise you get div by zero \n",
    "            self.times_chosen[self.last_chosen] += 1\n",
    "            \n",
    "            # Update: new_estimated_value = old_est_value + step_size*(reward - old_est_value)\n",
    "            # step_size = (1/times chosen)\n",
    "            # I created this update step because it follows the general patters of updating for many types of agents\n",
    "            # and it does not use the recalculate_mean_with_stepsize function, nor the update queue\n",
    "            # I think part of the catch of doing directly is that it is more efficient not to have an update queue\n",
    "            # so that agents have no unnecesary \"memory\" of past rewards - that info is already contained in \n",
    "            # the times_chosen and old_estimate - there is a proof of this in the book if I remember correctly\n",
    "            # \\ is to signal the line split\n",
    "            self.estimated_values[self.last_chosen] = self.estimated_values[self.last_chosen] + \\\n",
    "            (1/self.times_chosen[self.last_chosen])*(reward - self.estimated_values[self.last_chosen])\n",
    "            \n",
    "        def clear_update_queue(self):\n",
    "            self.update_queue = [] \n",
    "\n",
    "        def get_estimated_values(self):\n",
    "            return self.estimated_values"
   ]
  },
  {
   "cell_type": "code",
   "execution_count": 43,
   "metadata": {},
   "outputs": [],
   "source": [
    "# Setup the list of agents. \n",
    "# Notice that this is ugly cause each belief is named '0','1','2','3'. But given the interpretation that we are using this\n",
    "# is a way of capturing the political spectrum\n",
    "agent_list = [] \n",
    "\n",
    "for i in range(len(pop)):\n",
    "    for x in range(pop[i]):   #make the reds \n",
    "        agent_list.append(Epsilon_greedy_agent(belief='i'))"
   ]
  },
  {
   "cell_type": "code",
   "execution_count": 46,
   "metadata": {
    "scrolled": true
   },
   "outputs": [
    {
     "name": "stdout",
     "output_type": "stream",
     "text": [
      "0 1 2 3 4 5 6 7 8 9 10 11 12 13 14 15 16 17 18 19 20 21 22 23 24 25 26 27 28 29 30 31 32 33 34 35 36 37 38 39 40 41 42 43 44 45 46 47 48 49 50 51 52 53 54 55 56 57 58 59 60 61 62 63 64 65 66 67 68 69 70 71 72 73 74 75 76 77 78 79 80 81 82 83 84 85 86 87 88 89 90 91 92 93 94 95 96 97 98 99 100 101 102 103 104 105 106 107 108 109 110 111 112 113 114 115 116 117 118 119 120 121 122 123 124 125 126 127 128 129 130 131 132 133 134 135 136 137 138 139 140 141 142 143 144 145 146 147 148 149 150 151 152 153 154 155 156 157 158 159 160 161 162 163 164 165 166 167 168 169 170 171 172 173 174 175 176 177 178 179 180 181 182 183 184 185 186 187 188 189 190 191 192 193 194 195 196 197 198 199 200 201 202 203 204 205 206 207 208 209 210 211 212 213 214 215 216 217 218 219 220 221 222 223 224 225 226 227 228 229 230 231 232 233 234 235 236 237 238 239 240 241 242 243 244 245 246 247 248 249 "
     ]
    }
   ],
   "source": [
    "# To start, just assuming  all-to-all connectivity and random choice of one partner per round  \n",
    "# I'm sure there are nicer ways to do this, especially given the clunky random choice \n",
    "\n",
    "rd = {'hawk':np.zeros(iterations),'dove':np.zeros(iterations)} #this tracks actual actions by round \n",
    "\n",
    "hproplist = []   # keep track of proportion of hawk choices\n",
    "\n",
    "# I am eliminating keeping track of mean payoffs because (a) it becomes computationally expensive, (b) I do not yet\n",
    "# see much of its significance for the purpose of our interpretation, and (c) once there are more than two types\n",
    "# the problem becomes quite expensive\n",
    "# meanreds = []    # mean red payoff per round\n",
    "# meanblues = []   # and blues \n",
    "\n",
    "for x in range(iterations):\n",
    "    #track per round payoffs\n",
    "    # I think this could become quite expensive computationally\n",
    "    # temppayoffs = {'0':[],'1':[],'2':[],'3':[]} \n",
    "    \n",
    "    if x % 10 == 0:   #this is so I know how fast it's running \n",
    "        print(x // 10,end= \" \")\n",
    "    \n",
    "    # Create a list of all the agents\n",
    "    agents = [] \n",
    "    for i in range(num_agents):\n",
    "        agents.append(i)\n",
    "    \n",
    "    # Match two agents randomly only once, and have them perform the update    \n",
    "    for a in agents:\n",
    "        b = a\n",
    "        #randomly choose until you're not pointing at yourself\n",
    "        while a == b: \n",
    "            b = np.random.choice(agents)\n",
    "        # remove those two agents from the list so that we secure they match only once\n",
    "        agents.remove(a)\n",
    "        agents.remove(b)\n",
    "        #this could all be tighter but this is easy to read \n",
    "        a_belief = agent_list[a].report_belief()  \n",
    "        b_belief = agent_list[b].report_belief()\n",
    "        a_action = agent_list[a].choose_action()\n",
    "        b_action = agent_list[b].choose_action()\n",
    "        if a_belief == b_belief:\n",
    "            a_payoff = agree_payoff\n",
    "            b_payoff = agree_payoff\n",
    "        else:\n",
    "            a_payoff = disagree_dict[a_action][b_action]\n",
    "            b_payoff = disagree_dict[b_action][a_action]\n",
    "\n",
    "        #temppayoffs[a_belief].append(a_payoff)\n",
    "        #temppayoffs[b_belief].append(b_payoff)\n",
    "        \n",
    "        # Counting actions at each round\n",
    "        rd[a_action][x] += 1\n",
    "        rd[b_action][x] += 1\n",
    "        \n",
    "        # Since we know that each agent is paired only once we don't really need the queue and we can just update\n",
    "        # apologies for the micromanaging\n",
    "        # agent_list[a].add_to_update_queue((a_action,a_payoff))  \n",
    "        # agent_list[b].add_to_update_queue((b_action,b_payoff))  #note that the chosen partner also updates, which you could omit \n",
    "        agent_list[a].update_step(a_payoff)\n",
    "        agent_list[b].update_step(b_payoff)\n",
    "        \n",
    "    # Count the times when, for each agent, hawks was estimated to be better than dove\n",
    "    hprop = 0\n",
    "    for a in range(num_agents):\n",
    "        y = agent_list[a].get_estimated_values() #then go through and see whether hawk is better than dove\n",
    "        if y['hawk'] > y['dove']:  #and keep track if so. note that this is not tracking *choice* b/c epsilon greedy \n",
    "            hprop += 1      \n",
    "    \n",
    "    #then update running lists \n",
    "    hproplist.append(hprop)\n",
    "    # meanreds.append(np.mean(temppayoffs['red']))\n",
    "    # meanblues.append(np.mean(temppayoffs['blue']))\n",
    "\n"
   ]
  },
  {
   "cell_type": "code",
   "execution_count": 47,
   "metadata": {
    "scrolled": false
   },
   "outputs": [
    {
     "data": {
      "image/png": "[encoded data removed]",
      "text/plain": [
       "<Figure size 864x576 with 1 Axes>"
      ]
     },
     "metadata": {
      "needs_background": "light"
     },
     "output_type": "display_data"
    }
   ],
   "source": [
    "#show actions by round. Note that this is only showing the *primary* action, not the chosen partner action\n",
    "#this is trying to get a sense of each agents choice, no double counting. \n",
    "\n",
    "xs = range(iterations)   \n",
    "\n",
    "plt.figure(figsize=(12,8))\n",
    "plt.plot(xs,rd['hawk'],c='r',label='hawk')\n",
    "plt.plot(xs,rd['dove'],c='b',label='dove')\n",
    "plt.suptitle(\"Proportion=\"+str(proportion)+\" iterations=\"+str(iterations))\n",
    "plt.legend()\n",
    "plt.show()"
   ]
  },
  {
   "cell_type": "code",
   "execution_count": null,
   "metadata": {},
   "outputs": [],
   "source": [
    "# I've eliminated some of the plotting because it was designed for the case with just two"
   ]
  },
  {
   "cell_type": "markdown",
   "metadata": {},
   "source": [
    "# Now for the Replicator Dynamics\n",
    "\n",
    "In replicator dynamics we study which strategies are evolutionary stable. To do that, we need to stipulate, at initiation, which poportion of the reds and blues are hawks and which are doves. For simplicity, we start with same proportion of hawks for the two types.\n",
    "\n",
    "## All populations vary\n",
    "\n",
    "Here we have the case in which all populations vary. Next we will study the case in which the red and blue populations are fixed, and what varies is what strategies they play."
   ]
  },
  {
   "cell_type": "code",
   "execution_count": 12,
   "metadata": {},
   "outputs": [],
   "source": [
    "proportion_hawk = 0.5 # proportion of hawkes at initiation for both types\n",
    "# I will be still using the proportion of red and blue defined at the beginning as parameters"
   ]
  },
  {
   "cell_type": "code",
   "execution_count": 13,
   "metadata": {},
   "outputs": [],
   "source": [
    "# We use lists to keep track of populations cause they change at each iteration\n",
    "prop_red_hawk = [(pop_red*proportion_hawk)/num_agents]\n",
    "prop_red_dove = [(pop_red*(1-proportion_hawk))/num_agents]\n",
    "prop_blue_hawk = [(pop_blue*proportion_hawk)/num_agents]\n",
    "prop_blue_dove = [(pop_blue*(1-proportion_hawk))/num_agents]\n",
    "\n",
    "# Time step\n",
    "dt = 0.05\n",
    "\n",
    "# fitness for each population. Again we use lists because these change at each time step\n",
    "# fitness is basically the expected value for a given (population,strategy) pair, given the proportions of each\n",
    "# population type as well as the payoffs obtained in the game\n",
    "# i.e. fitness_red_hawk = (agree_payoff * red_proportion) + (hawk-hawk_payoff * prop_blue_hawks) + (hawk-dove_payoff * prop_blue_dove)\n",
    "F_red_hawk = [((agree_payoff * (prop_red_hawk[0] + prop_red_dove[0]))+(prop_blue_hawk[0]*disagree_dict['hawk']['hawk'])+(prop_blue_dove[0]*disagree_dict['hawk']['dove']))*dt]\n",
    "F_red_dove = [((agree_payoff * (prop_red_hawk[0] + prop_red_dove[0]))+(prop_blue_hawk[0]*disagree_dict['dove']['hawk'])+(prop_blue_dove[0]*disagree_dict['dove']['dove']))*dt]\n",
    "F_blue_hawk = [((agree_payoff * (prop_blue_hawk[0] + prop_blue_dove[0]))+(prop_red_hawk[0]*disagree_dict['hawk']['hawk'])+(prop_red_dove[0]*disagree_dict['hawk']['dove']))*dt]\n",
    "F_blue_dove = [((agree_payoff * (prop_blue_hawk[0]+prop_blue_dove[0]))+(prop_red_hawk[0]*disagree_dict['dove']['hawk'])+(prop_red_dove[0]*disagree_dict['dove']['dove']))*dt]\n",
    "\n",
    "# Average fitness\n",
    "F_average = [((F_red_hawk[0]*prop_red_hawk[0])+(F_red_dove[0]*prop_red_dove[0])+(F_blue_hawk[0]*prop_blue_hawk[0])+(F_blue_dove[0]*prop_blue_dove[0]))*dt]"
   ]
  },
  {
   "cell_type": "code",
   "execution_count": 14,
   "metadata": {},
   "outputs": [
    {
     "name": "stdout",
     "output_type": "stream",
     "text": [
      "[0.375]\n",
      "[0.003125]\n",
      "1.0\n"
     ]
    }
   ],
   "source": [
    "print(prop_blue_hawk)\n",
    "print(F_red_dove)\n",
    "print(prop_red_hawk[0]+prop_red_dove[0]+prop_blue_hawk[0]+prop_blue_dove[0])"
   ]
  },
  {
   "cell_type": "code",
   "execution_count": 15,
   "metadata": {},
   "outputs": [],
   "source": [
    "# Simulations\n",
    "# So at each stage we keep track of the population proportions of each type and stragegy, as well as the fitness for each type-strategy\n",
    "for t in range(200):\n",
    "    # fitnesses for populations at t\n",
    "    f_red_hawk = (agree_payoff * (prop_red_hawk[t] + prop_red_dove[t]))+(prop_blue_hawk[t]*disagree_dict['hawk']['hawk'])+(prop_blue_dove[t]*disagree_dict['hawk']['dove'])\n",
    "    f_red_dove = (agree_payoff * (prop_red_hawk[t]+prop_red_dove[t]))+(prop_blue_hawk[t]*disagree_dict['dove']['hawk'])+(prop_blue_dove[t]*disagree_dict['dove']['dove'])\n",
    "    f_blue_hawk = (agree_payoff * (prop_blue_hawk[t]+prop_blue_dove[t]))+(prop_red_hawk[t]*disagree_dict['hawk']['hawk'])+(prop_red_dove[t]*disagree_dict['hawk']['dove'])\n",
    "    f_blue_dove = (agree_payoff * (prop_blue_hawk[t]+prop_blue_dove[t]))+(prop_red_hawk[t]*disagree_dict['dove']['hawk'])+(prop_red_dove[t]*disagree_dict['dove']['dove'])\n",
    "\n",
    "    # Average fitness at t\n",
    "    f_average = (f_red_hawk*prop_red_hawk[t])+(f_red_dove*prop_red_dove[t])+(f_blue_hawk*prop_blue_hawk[t])+(f_blue_dove*prop_blue_dove[t])\n",
    "    \n",
    "    # update the fitness lists\n",
    "    F_red_hawk.append(f_red_hawk*dt)\n",
    "    F_red_dove.append(f_red_dove*dt)\n",
    "    F_blue_hawk.append(f_blue_hawk*dt)\n",
    "    F_blue_dove.append(f_blue_dove*dt)\n",
    "    F_average.append(f_average*dt)\n",
    "    \n",
    "    # update equations for populations\n",
    "    # the idea is that at each time step (dt), the population will change in accordance to the fitness (that is why we multiply by dt)\n",
    "    # in our familiar RL notation: new_population = old_population + step_size*(old_population*(pop_fitness - average_fitness))\n",
    "    # here step_size is dt\n",
    "    # The idea here is that each population is updated according to how successful they\n",
    "    # were in the previous iteration: d_pop/dt = pop*(f_pop - f_average)\n",
    "    # Our update is: new_prop = old_prop + old_prop*(pop_fitness - average_fitness)\n",
    "    prop_red_hawk.append(prop_red_hawk[t]+dt*(prop_red_hawk[t]*(f_red_hawk-f_average)))\n",
    "    prop_red_dove.append(prop_red_dove[t]+dt*(prop_red_dove[t]*(f_red_dove-f_average)))\n",
    "    prop_blue_hawk.append(prop_blue_hawk[t]+dt*(prop_blue_hawk[t]*(f_blue_hawk-f_average)))\n",
    "    prop_blue_dove.append(prop_blue_dove[t]+dt*(prop_blue_dove[t]*(f_blue_dove-f_average)))\n",
    "    \n",
    "    "
   ]
  },
  {
   "cell_type": "code",
   "execution_count": 16,
   "metadata": {},
   "outputs": [
    {
     "data": {
      "text/plain": [
       "<matplotlib.legend.Legend at 0x1e66a1ced88>"
      ]
     },
     "execution_count": 16,
     "metadata": {},
     "output_type": "execute_result"
    },
    {
     "data": {
      "image/png": "[encoded data removed]",
      "text/plain": [
       "<Figure size 432x288 with 1 Axes>"
      ]
     },
     "metadata": {
      "needs_background": "light"
     },
     "output_type": "display_data"
    }
   ],
   "source": [
    "# Plotting\n",
    "# If you try a minority of red (proportion = 0.25) and start with equal hawk-dove proportions at each population\n",
    "# you will notice that the reds disappear in time, and blues have a majority of doves and a close minority of hawks\n",
    "# If I knew how to plot nicely, its possible to also observe the fitness evolution\n",
    "plt.plot(prop_red_hawk, 'r', label ='Share of strategy red hawks')\n",
    "plt.plot(prop_red_dove, 'g', label ='Share of strategy red doves')\n",
    "plt.plot(prop_blue_hawk, 'b', label ='Share of strategy blue hawks')\n",
    "plt.plot(prop_blue_dove, 'y', label ='Share of strategy blue doves')\n",
    "plt.grid()\n",
    "plt.ylim(0, 1)\n",
    "plt.legend(loc='best')"
   ]
  },
  {
   "cell_type": "markdown",
   "metadata": {},
   "source": [
    "# Only strategy populations vary, but not type\n",
    "\n",
    "In the case before, we allowed the populations of each type to change. Also, fitness was compared relative to the overall population. Here we have the proportions of red and blue fixed; but within each type the proportion of hawks and doves changes. The fitness is comparable only intra group."
   ]
  },
  {
   "cell_type": "code",
   "execution_count": 17,
   "metadata": {},
   "outputs": [],
   "source": [
    "# We use lists to keep track of populations cause they change at each iteration\n",
    "prop_red_hawk = [(pop_red*proportion_hawk)/num_agents]\n",
    "prop_red_dove = [(pop_red*(1-proportion_hawk))/num_agents]\n",
    "prop_red = pop_red/num_agents\n",
    "prop_blue_hawk = [(pop_blue*proportion_hawk)/num_agents]\n",
    "prop_blue_dove = [(pop_blue*(1-proportion_hawk))/num_agents]\n",
    "prop_blue = pop_blue/num_agents\n",
    "\n",
    "# Time step\n",
    "dt = 0.05\n",
    "\n",
    "# fitness for each population.\n",
    "# Notice that here we don't use the average population fitness but the in-group fitness\n",
    "F_red_hawk = [((agree_payoff * (prop_red_hawk[0] + prop_red_dove[0]))+(prop_blue_hawk[0]*disagree_dict['hawk']['hawk'])+(prop_blue_dove[0]*disagree_dict['hawk']['dove']))*dt]\n",
    "F_red_dove = [((agree_payoff * (prop_red_hawk[0] + prop_red_dove[0]))+(prop_blue_hawk[0]*disagree_dict['dove']['hawk'])+(prop_blue_dove[0]*disagree_dict['dove']['dove']))*dt]\n",
    "F_blue_hawk = [((agree_payoff * (prop_blue_hawk[0] + prop_blue_dove[0]))+(prop_red_hawk[0]*disagree_dict['hawk']['hawk'])+(prop_red_dove[0]*disagree_dict['hawk']['dove']))*dt]\n",
    "F_blue_dove = [((agree_payoff * (prop_blue_hawk[0]+prop_blue_dove[0]))+(prop_red_hawk[0]*disagree_dict['dove']['hawk'])+(prop_red_dove[0]*disagree_dict['dove']['dove']))*dt]\n",
    "\n",
    "# Average fitness\n",
    "F_average = [((F_red_hawk[0]*prop_red_hawk[0])+(F_red_dove[0]*prop_red_dove[0])+(F_blue_hawk[0]*prop_blue_hawk[0])+(F_blue_dove[0]*prop_blue_dove[0]))*dt]\n",
    "\n",
    "# The catch now is that the population dynamics is defined for each group independently\n",
    "# So we need to compute the average fitness for each group\n",
    "F_average_red = [(((F_red_hawk[0]*prop_red_hawk[0])+(F_red_dove[0]*prop_red_dove[0]))*(1/prop_red))*dt]\n",
    "F_average_blue = [(((F_blue_hawk[0]*prop_blue_hawk[0])+(F_blue_dove[0]*prop_blue_dove[0]))*(1/prop_blue))*dt]\n",
    "\n"
   ]
  },
  {
   "cell_type": "code",
   "execution_count": 18,
   "metadata": {},
   "outputs": [
    {
     "name": "stdout",
     "output_type": "stream",
     "text": [
      "[0.375]\n",
      "[0.003125]\n",
      "1.0\n"
     ]
    }
   ],
   "source": [
    "print(prop_blue_hawk)\n",
    "print(F_red_dove)\n",
    "print(prop_red_hawk[0]+prop_red_dove[0]+prop_blue_hawk[0]+prop_blue_dove[0])"
   ]
  },
  {
   "cell_type": "code",
   "execution_count": 19,
   "metadata": {},
   "outputs": [],
   "source": [
    "# Simulations\n",
    "\n",
    "for t in range(750):\n",
    "    # fitnesses for populations at t\n",
    "    f_red_hawk = (agree_payoff*(prop_red_hawk[t]+prop_red_dove[t]))+(prop_blue_hawk[t]*disagree_dict['hawk']['hawk'])+(prop_blue_dove[t]*disagree_dict['hawk']['dove'])\n",
    "    f_red_dove = (agree_payoff*(prop_red_hawk[t]+prop_red_dove[t]))+(prop_blue_hawk[t]*disagree_dict['dove']['hawk'])+(prop_blue_dove[t]*disagree_dict['dove']['dove'])\n",
    "    f_blue_hawk = (agree_payoff*(prop_blue_hawk[t]+prop_blue_dove[t]))+(prop_red_hawk[t]*disagree_dict['hawk']['hawk'])+(prop_red_dove[t]*disagree_dict['hawk']['dove'])\n",
    "    f_blue_dove = (agree_payoff*(prop_blue_hawk[t]+prop_blue_dove[t]))+(prop_red_hawk[t]*disagree_dict['dove']['hawk'])+(prop_red_dove[t]*disagree_dict['dove']['dove'])\n",
    "\n",
    "    # Average fitness at t\n",
    "    f_average = (f_red_hawk*prop_red_hawk[t])+(f_red_dove*prop_red_dove[t])+(f_blue_hawk*prop_blue_hawk[t])+(f_blue_dove*prop_blue_dove[t])\n",
    "    \n",
    "    # Since the evolutionary dynamics is within group, we need to compare, for each group\n",
    "    # which strategy is more stable\n",
    "    # We have to normalize by the proportion of reds and blues\n",
    "    f_average_red = ((f_red_hawk*prop_red_hawk[t])+(f_red_dove*prop_red_dove[t]))*(1/prop_red)\n",
    "    f_average_blue = ((f_blue_hawk*prop_blue_hawk[t])+(f_blue_dove*prop_blue_dove[t]))*(1/prop_blue)\n",
    "    \n",
    "    # update the fitness lists\n",
    "    F_red_hawk.append(f_red_hawk*dt)\n",
    "    F_red_dove.append(f_red_dove*dt)\n",
    "    F_blue_hawk.append(f_blue_hawk*dt)\n",
    "    F_blue_dove.append(f_blue_dove*dt)\n",
    "    F_average.append(f_average*dt)\n",
    "    F_average_red.append(f_average_red*dt)\n",
    "    F_average_blue.append(f_average_blue*dt)\n",
    "    \n",
    "    # update equations for populations\n",
    "    # Our update is: new_prop = old_prop + step_size*(old_prop*(pop_fitness - average_GROUP_fitness))\n",
    "    prop_red_hawk.append(prop_red_hawk[t]+dt*(prop_red_hawk[t]*(f_red_hawk-f_average_red)))\n",
    "    prop_red_dove.append(prop_red_dove[t]+dt*(prop_red_dove[t]*(f_red_dove-f_average_red)))\n",
    "    prop_blue_hawk.append(prop_blue_hawk[t]+dt*(prop_blue_hawk[t]*(f_blue_hawk-f_average_blue)))\n",
    "    prop_blue_dove.append(prop_blue_dove[t]+dt*(prop_blue_dove[t]*(f_blue_dove-f_average_blue)))\n",
    "    \n",
    "    "
   ]
  },
  {
   "cell_type": "code",
   "execution_count": 20,
   "metadata": {},
   "outputs": [
    {
     "name": "stdout",
     "output_type": "stream",
     "text": [
      "0.25\n",
      "0.24999999999999944\n",
      "0.75\n",
      "0.7500000000000001\n"
     ]
    }
   ],
   "source": [
    "# To check that the equations are note messing up the populations\n",
    "print(prop_red_hawk[0]+prop_red_dove[0])\n",
    "print(prop_red_hawk[750]+prop_red_dove[750])\n",
    "\n",
    "print(prop_blue_hawk[0]+prop_blue_dove[0])\n",
    "print(prop_blue_hawk[750]+prop_blue_dove[750])"
   ]
  },
  {
   "cell_type": "code",
   "execution_count": 21,
   "metadata": {},
   "outputs": [
    {
     "data": {
      "text/plain": [
       "<matplotlib.legend.Legend at 0x1e66a536e88>"
      ]
     },
     "execution_count": 21,
     "metadata": {},
     "output_type": "execute_result"
    },
    {
     "data": {
      "image/png": "[encoded data removed]",
      "text/plain": [
       "<Figure size 432x288 with 1 Axes>"
      ]
     },
     "metadata": {
      "needs_background": "light"
     },
     "output_type": "display_data"
    }
   ],
   "source": [
    "# Plotting is the same\n",
    "# This is a curious case!\n",
    "# If you start with a minority of red (proportion = 0.25) and equal proportions of hawk and doves,\n",
    "# then red stabilize being doves and blues being hawks\n",
    "# namely, the reds (minority) evolve to become submissive and the blues become dominant (majority)\n",
    "plt.plot(prop_red_hawk, 'r', label ='Share of strategy red hawks')\n",
    "plt.plot(prop_red_dove, 'g', label ='Share of strategy red doves')\n",
    "plt.plot(prop_blue_hawk, 'b', label ='Share of strategy blue hawks')\n",
    "plt.plot(prop_blue_dove, 'y', label ='Share of strategy blue doves')\n",
    "plt.grid()\n",
    "plt.ylim(0, 1)\n",
    "plt.legend(loc='best')"
   ]
  },
  {
   "cell_type": "markdown",
   "metadata": {},
   "source": [
    "# Only stregy populations vary, but now with epsilon mutation\n",
    "\n",
    "This is just like the case before, but now we have an epsilon parameter of mutation.\n",
    "The idea is that at each stage a fixed proportion epsilon of the whole population mutates at random.\n",
    "This is very similar to the epsilon exploration in RL.\n",
    "So having fixed populations of types (red, blue) plus some epsilon mutation is the closest I can think of to compare with using epsilon greedy in the bandit case before."
   ]
  },
  {
   "cell_type": "code",
   "execution_count": 22,
   "metadata": {},
   "outputs": [],
   "source": [
    "# The fitness equations are the same as the last case\n",
    "# We use lists to keep track of populations cause they change at each iteration\n",
    "prop_red_hawk = [(pop_red*proportion_hawk)/num_agents]\n",
    "prop_red_dove = [(pop_red*(1-proportion_hawk))/num_agents]\n",
    "prop_red = pop_red/num_agents\n",
    "prop_blue_hawk = [(pop_blue*proportion_hawk)/num_agents]\n",
    "prop_blue_dove = [(pop_blue*(1-proportion_hawk))/num_agents]\n",
    "prop_blue = pop_blue/num_agents\n",
    "\n",
    "# Time step\n",
    "dt = 0.05\n",
    "\n",
    "# fitness for each population.\n",
    "F_red_hawk = [((agree_payoff * (prop_red_hawk[0] + prop_red_dove[0]))+(prop_blue_hawk[0]*disagree_dict['hawk']['hawk'])+(prop_blue_dove[0]*disagree_dict['hawk']['dove']))*dt]\n",
    "F_red_dove = [((agree_payoff * (prop_red_hawk[0] + prop_red_dove[0]))+(prop_blue_hawk[0]*disagree_dict['dove']['hawk'])+(prop_blue_dove[0]*disagree_dict['dove']['dove']))*dt]\n",
    "F_blue_hawk = [((agree_payoff * (prop_blue_hawk[0] + prop_blue_dove[0]))+(prop_red_hawk[0]*disagree_dict['hawk']['hawk'])+(prop_red_dove[0]*disagree_dict['hawk']['dove']))*dt]\n",
    "F_blue_dove = [((agree_payoff * (prop_blue_hawk[0]+prop_blue_dove[0]))+(prop_red_hawk[0]*disagree_dict['dove']['hawk'])+(prop_red_dove[0]*disagree_dict['dove']['dove']))*dt]\n",
    "\n",
    "# Average fitness\n",
    "F_average = [((F_red_hawk[0]*prop_red_hawk[0])+(F_red_dove[0]*prop_red_dove[0])+(F_blue_hawk[0]*prop_blue_hawk[0])+(F_blue_dove[0]*prop_blue_dove[0]))*dt]\n",
    "\n",
    "# The catch now is that the population dynamics is defined for each group independently\n",
    "# So we need to compute the average fitness for each group\n",
    "F_average_red = [(((F_red_hawk[0]*prop_red_hawk[0])+(F_red_dove[0]*prop_red_dove[0]))*(1/prop_red))*dt]\n",
    "F_average_blue = [(((F_blue_hawk[0]*prop_blue_hawk[0])+(F_blue_dove[0]*prop_blue_dove[0]))*(1/prop_blue))*dt]"
   ]
  },
  {
   "cell_type": "code",
   "execution_count": 23,
   "metadata": {},
   "outputs": [
    {
     "name": "stdout",
     "output_type": "stream",
     "text": [
      "[0.125]\n",
      "[0.003125]\n",
      "1.0\n",
      "0.05\n"
     ]
    }
   ],
   "source": [
    "print(prop_red_dove)\n",
    "print(F_red_dove)\n",
    "print(prop_red_hawk[0]+prop_red_dove[0]+prop_blue_hawk[0]+prop_blue_dove[0])\n",
    "print(epsilon/2)"
   ]
  },
  {
   "cell_type": "code",
   "execution_count": 24,
   "metadata": {},
   "outputs": [],
   "source": [
    "# Simulations\n",
    "\n",
    "for t in range(750):\n",
    "    # fitnesses for populations at t\n",
    "    f_red_hawk = (agree_payoff*(prop_red_hawk[t]+prop_red_dove[t]))+(prop_blue_hawk[t]*disagree_dict['hawk']['hawk'])+(prop_blue_dove[t]*disagree_dict['hawk']['dove'])\n",
    "    f_red_dove = (agree_payoff*(prop_red_hawk[t]+prop_red_dove[t]))+(prop_blue_hawk[t]*disagree_dict['dove']['hawk'])+(prop_blue_dove[t]*disagree_dict['dove']['dove'])\n",
    "    f_blue_hawk = (agree_payoff*(prop_blue_hawk[t]+prop_blue_dove[t]))+(prop_red_hawk[t]*disagree_dict['hawk']['hawk'])+(prop_red_dove[t]*disagree_dict['hawk']['dove'])\n",
    "    f_blue_dove = (agree_payoff*(prop_blue_hawk[t]+prop_blue_dove[t]))+(prop_red_hawk[t]*disagree_dict['dove']['hawk'])+(prop_red_dove[t]*disagree_dict['dove']['dove'])\n",
    "\n",
    "    # Average fitness at t\n",
    "    f_average = (f_red_hawk*prop_red_hawk[t])+(f_red_dove*prop_red_dove[t])+(f_blue_hawk*prop_blue_hawk[t])+(f_blue_dove*prop_blue_dove[t])\n",
    "    \n",
    "    # Since the evolutionary dynamics is within group, we need to compare, for each group\n",
    "    # which strategy is more stable\n",
    "    # The replicator-mutator dynamics is a bit more complicated, so there will be some extra normalization\n",
    "    # steps. That is why the normalization is a bit weird here. I try to explain it below.\n",
    "    prop_red_hawk_normalized = prop_red_hawk[t]*(1/prop_red)\n",
    "    prop_red_dove_normalized = prop_red_dove[t]*(1/prop_red)\n",
    "    f_average_red = ((f_red_hawk*prop_red_hawk_normalized)+(f_red_dove*prop_red_dove_normalized))       \n",
    "    \n",
    "    prop_blue_hawk_normalized = prop_blue_hawk[t]*(1/prop_blue)\n",
    "    prop_blue_dove_normalized = prop_blue_dove[t]*(1/prop_blue)\n",
    "    f_average_blue = ((f_blue_hawk*prop_blue_hawk_normalized)+(f_blue_dove*prop_blue_dove_normalized))\n",
    "    \n",
    "    # update the fitness lists\n",
    "    F_red_hawk.append(f_red_hawk*dt)\n",
    "    F_red_dove.append(f_red_dove*dt)\n",
    "    F_blue_hawk.append(f_blue_hawk*dt)\n",
    "    F_blue_dove.append(f_blue_dove*dt)\n",
    "    F_average.append(f_average*dt)\n",
    "    F_average_red.append(f_average_red*dt)\n",
    "    F_average_blue.append(f_average_blue*dt)\n",
    "    \n",
    "    # update equations for populations\n",
    "    # See explanation below   \n",
    "    total_red_hawk = (1-epsilon)*prop_red_hawk_normalized*f_red_hawk + (epsilon/2)*f_average_red\n",
    "    new_red_hawk_prop = prop_red_hawk_normalized + dt*(total_red_hawk - prop_red_hawk_normalized*f_average_red)\n",
    "    new_red_hawk_prop_renormalized = new_red_hawk_prop*prop_red\n",
    "    prop_red_hawk.append(new_red_hawk_prop_renormalized)\n",
    "\n",
    "    total_red_dove = (1-epsilon)*prop_red_dove_normalized*f_red_dove + (epsilon/2)*f_average_red\n",
    "    new_red_dove_prop = prop_red_dove_normalized + dt*(total_red_dove - prop_red_dove_normalized*f_average_red)\n",
    "    new_red_dove_prop_renormalized = new_red_dove_prop*prop_red\n",
    "    prop_red_dove.append(new_red_dove_prop_renormalized)\n",
    "    \n",
    "    total_blue_hawk = (1-epsilon)*prop_blue_hawk_normalized*f_blue_hawk + (epsilon/2)*f_average_blue\n",
    "    new_blue_hawk_prop = prop_blue_hawk_normalized + dt*(total_blue_hawk - prop_blue_hawk_normalized*f_average_blue)\n",
    "    new_blue_hawk_prop_renormalized = new_blue_hawk_prop*prop_blue\n",
    "    prop_blue_hawk.append(new_blue_hawk_prop_renormalized)\n",
    "\n",
    "    total_blue_dove = (1-epsilon)*prop_blue_dove_normalized*f_blue_dove + (epsilon/2)*f_average_blue\n",
    "    new_blue_dove_prop = prop_blue_dove_normalized + dt*(total_blue_dove - prop_blue_dove_normalized*f_average_blue)\n",
    "    new_blue_dove_prop_renormalized = new_blue_dove_prop*prop_blue\n",
    "    prop_blue_dove.append(new_blue_dove_prop_renormalized)\n",
    "    \n",
    "    # The following is trash from previous attempts that I don't want to erase just in case\n",
    "    #total_red_dove = (1-epsilon)*prop_red_dove[t]*f_red_dove + (epsilon/2)*f_average_red\n",
    "    #prop_red_dove.append(prop_red_dove[t] + dt*(total_red_dove - prop_red_dove[t]*f_average_red))\n",
    "    #total_blue_hawk = (1-epsilon)*prop_blue_hawk[t]*f_blue_hawk + (epsilon/2)*f_average_blue\n",
    "    #prop_blue_hawk.append(prop_blue_hawk[t] + dt*(total_blue_hawk - prop_blue_hawk[t]*f_average_blue))                       \n",
    "    #total_blue_dove = (1-epsilon)*prop_blue_dove[t]*f_blue_dove + (epsilon/2)*f_average_blue\n",
    "    #prop_blue_dove.append(prop_blue_dove[t] + dt*(total_blue_dove - prop_blue_dove[t]*f_average_blue))\n",
    "    \n",
    "    # HERE THE EXPLANATION\n",
    "    # Ok it gets slightly complicated here\n",
    "    # Our update WITHOUT MUTATION is: \n",
    "    # new_prop = old_prop + step_size*(old_prop*(pop_fitness - average_GROUP_fitness))\n",
    "    # Now things are slightly more complicated, lets think about it\n",
    "    # In the previous case, at each step the CHANGE was: step_size*(old_porop*(pop_fitness - average_GROUP_fitness))\n",
    "    # Let us look closely at: old_prop*(pop_fitness - average_GROUP_fitness)\n",
    "    # This is the same as: old_prop*pop_fitness - old_prop*average_GROUP_fitness\n",
    "    # So what this is saying is that at each step size the population will change by comparing \n",
    "    # its Total fitness (old_prop*pop_fitness) with the total fitness it would have if it were average (old_prop*average_fitness)\n",
    "    \n",
    "    # Ok good. In the case of mutation we can compute the total fitness of the population that will reproduce or mutate\n",
    "    # into our target population:\n",
    "    # (1-epsilon)*old_prop will reproduce into agents of the same type and strategy\n",
    "    # So we have: (1-epsilon)*old_prop*pop_fitness as part of the total fitness\n",
    "    \n",
    "    # (epsilon/#number of types-strategies)*(prop_type1*fitness_type1 + prop_type2*fitness_type2 + ...) gives us the rest of\n",
    "    # the total fitness of the agents that will mutate into our target type-strategy\n",
    "    # Now: average_fitness = prop_type1*fitness_type1 + prop_type2*fitness_type2 + ...\n",
    "    # So we actually have: (epsilon/#number of types-strategies)*average_fitness\n",
    "    # Since we are making fitness comparison intra types, we consider only 2 number of types-pairs (hawk and dove)\n",
    "    # This is to say that mutations occur only within type: blue mutate into blue, red into red\n",
    "    \n",
    "    # Ok so the total fitness for our target type-strategy is:\n",
    "    # (1-epsilon)*old_prop*pop_fitness + (epsilon/2)*average_fitness\n",
    "    # lets call that total_group_fitness.\n",
    "    # and, as before, to that we need to substract: old_prop*average_fitness\n",
    "    # So the change at each step will be:\n",
    "    # step_size(total_group_fitness - old_prop*average_fitness)\n",
    "    # And the update will be:\n",
    "    # new_prop = old_prop + step_size*(total_group_fitness - old_prop*average_fitness)\n",
    "    \n",
    "    # Now for the part that took me several hours to figure out\n",
    "    # the in-group population dynamics equations with mutation only secure that the red or blue population\n",
    "    # remains fixed in each iteration if the prop_red_hawk + prop_red_dove = 1, and the same for the blues\n",
    "    # so what we will do is compute the ecuations normalizing by 1/prop_red and 1/prop_blue,\n",
    "    # and then normalize back by multiplying for prop_red and prop_blue\n"
   ]
  },
  {
   "cell_type": "code",
   "execution_count": 25,
   "metadata": {},
   "outputs": [
    {
     "name": "stdout",
     "output_type": "stream",
     "text": [
      "0.25\n",
      "0.24999999999999908\n",
      "0.75\n",
      "0.7499999999999989\n",
      "1.0\n",
      "0.999999999999998\n"
     ]
    }
   ],
   "source": [
    "print(prop_red_hawk[0]+prop_red_dove[0])\n",
    "print(prop_red_hawk[750]+prop_red_dove[750])\n",
    "\n",
    "print(prop_blue_hawk[0]+prop_blue_dove[0])\n",
    "print(prop_blue_hawk[750]+prop_blue_dove[750])\n",
    "\n",
    "print(prop_red_hawk[0]+prop_red_dove[0]+prop_blue_hawk[0]+prop_blue_dove[0])\n",
    "print(prop_red_hawk[750]+prop_red_dove[750]+prop_blue_hawk[750]+prop_blue_dove[750])"
   ]
  },
  {
   "cell_type": "code",
   "execution_count": 26,
   "metadata": {},
   "outputs": [
    {
     "data": {
      "text/plain": [
       "<matplotlib.legend.Legend at 0x1e66a5d7b08>"
      ]
     },
     "execution_count": 26,
     "metadata": {},
     "output_type": "execute_result"
    },
    {
     "data": {
      "image/png": "[encoded data removed]",
      "text/plain": [
       "<Figure size 432x288 with 1 Axes>"
      ]
     },
     "metadata": {
      "needs_background": "light"
     },
     "output_type": "display_data"
    }
   ],
   "source": [
    "# Plotting is the same\n",
    "# Again we get that the majority becomes dominant and the minority becomes submissive (proportion = 0.25, hawkpop = 0.5)\n",
    "# Its basically the same graph as before... and this took me several hours. Oh, well...\n",
    "plt.plot(prop_red_hawk, 'r', label ='Share of strategy red hawks')\n",
    "plt.plot(prop_red_dove, 'g', label ='Share of strategy red doves')\n",
    "plt.plot(prop_blue_hawk, 'b', label ='Share of strategy blue hawks')\n",
    "plt.plot(prop_blue_dove, 'y', label ='Share of strategy blue doves')\n",
    "plt.grid()\n",
    "plt.ylim(0, 1)\n",
    "plt.legend(loc='best')"
   ]
  },
  {
   "cell_type": "code",
   "execution_count": null,
   "metadata": {},
   "outputs": [],
   "source": []
  }
 ],
 "metadata": {
  "kernelspec": {
   "display_name": "Python 3",
   "language": "python",
   "name": "python3"
  },
  "language_info": {
   "codemirror_mode": {
    "name": "ipython",
    "version": 3
   },
   "file_extension": ".py",
   "mimetype": "text/x-python",
   "name": "python",
   "nbconvert_exporter": "python",
   "pygments_lexer": "ipython3",
   "version": "3.7.3"
  }
 },
 "nbformat": 4,
 "nbformat_minor": 2
}
